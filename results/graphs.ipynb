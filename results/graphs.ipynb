{
 "cells": [
  {
   "cell_type": "code",
   "execution_count": 11,
   "metadata": {},
   "outputs": [],
   "source": [
    "from graphviz import Digraph\n",
    "import random\n",
    "def create_weighted_grid_graph(size, algorithm, w):\n",
    "    dot = Digraph(comment=f'{algorithm} on {size}x{size} grid')\n",
    "\n",
    "    # Add nodes\n",
    "    for i in range(size):\n",
    "        for j in range(size):\n",
    "            dot.node(f'{i}{j}', f'({i},{j})')\n",
    "\n",
    "    for i in range(size):\n",
    "        for j in range(size):\n",
    "            if j < size - 1:  # Horizontal edges\n",
    "                if w:\n",
    "                    weight = random.randint(1, 10)\n",
    "                    dot.edge(f'{i}{j}', f'{i}{j+1}', label=str(weight), dir='none')\n",
    "                else:\n",
    "                    dot.edge(f'{i}{j}', f'{i}{j+1}', dir='none')\n",
    "            if i < size - 1:  # Vertical edges\n",
    "                if w:\n",
    "                    weight = random.randint(1, 10)\n",
    "                    dot.edge(f'{i}{j}', f'{i+1}{j}', label=str(weight), dir='none')\n",
    "                else:\n",
    "                    dot.edge(f'{i}{j}', f'{i+1}{j}', dir='none')\n",
    "    return dot"
   ]
  },
  {
   "cell_type": "code",
   "execution_count": 12,
   "metadata": {},
   "outputs": [],
   "source": [
    "# Create a weighted graph for Dijkstra's algorithm\n",
    "size = 4\n",
    "non_weighted_graph = create_weighted_grid_graph(size, \"BFS\", w=False)\n",
    "weighted_graph = create_weighted_grid_graph(size, \"Dijkstra\", w=True)\n",
    "\n",
    "# Render and show the graph in PNG format\n",
    "non_weighted_graph.render('mnt/data/BFS_4x4', format='png', cleanup=True)\n",
    "weighted_graph.render('mnt/data/Dijkstra_4x4', format='png', cleanup=True)\n",
    "\n",
    "# Paths to the PNG images\n",
    "bfs_png_path = 'mnt/data/BFS_4x4.png'\n",
    "dijkstra_png_path = 'mnt/data/Dijkstra_4x4.png'"
   ]
  },
  {
   "cell_type": "code",
   "execution_count": null,
   "metadata": {},
   "outputs": [],
   "source": []
  }
 ],
 "metadata": {
  "kernelspec": {
   "display_name": "venv",
   "language": "python",
   "name": "python3"
  },
  "language_info": {
   "codemirror_mode": {
    "name": "ipython",
    "version": 3
   },
   "file_extension": ".py",
   "mimetype": "text/x-python",
   "name": "python",
   "nbconvert_exporter": "python",
   "pygments_lexer": "ipython3",
   "version": "3.11.9"
  }
 },
 "nbformat": 4,
 "nbformat_minor": 2
}
